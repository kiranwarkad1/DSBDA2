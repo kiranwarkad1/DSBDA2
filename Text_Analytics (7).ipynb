{
 "cells": [
  {
   "cell_type": "code",
   "execution_count": 14,
   "id": "d7017fea-4db8-4a73-8d6a-9b0b03487bb4",
   "metadata": {},
   "outputs": [
    {
     "name": "stdout",
     "output_type": "stream",
     "text": [
      "Defaulting to user installation because normal site-packages is not writeable\n",
      "Requirement already satisfied: nltk in c:\\users\\admin\\appdata\\roaming\\python\\python313\\site-packages (3.9.1)\n",
      "Requirement already satisfied: scikit-learn in c:\\users\\admin\\appdata\\roaming\\python\\python313\\site-packages (1.6.1)\n",
      "Requirement already satisfied: click in c:\\users\\admin\\appdata\\roaming\\python\\python313\\site-packages (from nltk) (8.1.8)\n",
      "Requirement already satisfied: joblib in c:\\users\\admin\\appdata\\roaming\\python\\python313\\site-packages (from nltk) (1.4.2)\n",
      "Requirement already satisfied: regex>=2021.8.3 in c:\\users\\admin\\appdata\\roaming\\python\\python313\\site-packages (from nltk) (2024.11.6)\n",
      "Requirement already satisfied: tqdm in c:\\users\\admin\\appdata\\roaming\\python\\python313\\site-packages (from nltk) (4.67.1)\n",
      "Requirement already satisfied: numpy>=1.19.5 in c:\\users\\admin\\appdata\\roaming\\python\\python313\\site-packages (from scikit-learn) (2.2.4)\n",
      "Requirement already satisfied: scipy>=1.6.0 in c:\\users\\admin\\appdata\\roaming\\python\\python313\\site-packages (from scikit-learn) (1.15.2)\n",
      "Requirement already satisfied: threadpoolctl>=3.1.0 in c:\\users\\admin\\appdata\\roaming\\python\\python313\\site-packages (from scikit-learn) (3.6.0)\n",
      "Requirement already satisfied: colorama in c:\\users\\admin\\appdata\\roaming\\python\\python313\\site-packages (from click->nltk) (0.4.6)\n"
     ]
    }
   ],
   "source": [
    "!pip install nltk scikit-learn"
   ]
  },
  {
   "cell_type": "code",
   "execution_count": 15,
   "id": "0393cf1a-9746-4079-8b80-39c6dd9dd6ab",
   "metadata": {},
   "outputs": [],
   "source": [
    "import nltk\n",
    "from nltk.tokenize import word_tokenize\n",
    "from nltk.corpus import stopwords\n",
    "from nltk.stem import PorterStemmer, WordNetLemmatizer\n",
    "from nltk import pos_tag\n",
    "from sklearn.feature_extraction.text import TfidfVectorizer\n"
   ]
  },
  {
   "cell_type": "code",
   "execution_count": 22,
   "id": "e5395575-5fdd-4832-b48d-b832047f0ce9",
   "metadata": {},
   "outputs": [
    {
     "name": "stderr",
     "output_type": "stream",
     "text": [
      "[nltk_data] Downloading package punkt to\n",
      "[nltk_data]     C:\\Users\\Admin\\AppData\\Roaming\\nltk_data...\n",
      "[nltk_data]   Package punkt is already up-to-date!\n",
      "[nltk_data] Downloading package stopwords to\n",
      "[nltk_data]     C:\\Users\\Admin\\AppData\\Roaming\\nltk_data...\n",
      "[nltk_data]   Package stopwords is already up-to-date!\n",
      "[nltk_data] Downloading package averaged_perceptron_tagger to\n",
      "[nltk_data]     C:\\Users\\Admin\\AppData\\Roaming\\nltk_data...\n",
      "[nltk_data]   Package averaged_perceptron_tagger is already up-to-\n",
      "[nltk_data]       date!\n",
      "[nltk_data] Downloading package averaged_perceptron_tagger_eng to\n",
      "[nltk_data]     C:\\Users\\Admin\\AppData\\Roaming\\nltk_data...\n",
      "[nltk_data]   Unzipping taggers\\averaged_perceptron_tagger_eng.zip.\n",
      "[nltk_data] Downloading package wordnet to\n",
      "[nltk_data]     C:\\Users\\Admin\\AppData\\Roaming\\nltk_data...\n",
      "[nltk_data]   Package wordnet is already up-to-date!\n",
      "[nltk_data] Downloading package punkt_tab to\n",
      "[nltk_data]     C:\\Users\\Admin\\AppData\\Roaming\\nltk_data...\n",
      "[nltk_data]   Package punkt_tab is already up-to-date!\n"
     ]
    },
    {
     "data": {
      "text/plain": [
       "True"
      ]
     },
     "execution_count": 22,
     "metadata": {},
     "output_type": "execute_result"
    }
   ],
   "source": [
    "nltk.download('punkt')\n",
    "nltk.download('stopwords')\n",
    "nltk.download('averaged_perceptron_tagger') \n",
    "nltk.download('averaged_perceptron_tagger_eng')\n",
    "# Added line to download the tagger\n",
    "nltk.download('wordnet')\n",
    "nltk.download('punkt_tab')\n"
   ]
  },
  {
   "cell_type": "code",
   "execution_count": 17,
   "id": "ff7c04a6-03f6-4e58-bce5-3cf421a5786a",
   "metadata": {},
   "outputs": [],
   "source": [
    "# Sample document\n",
    "doc = \"Natural Language Processing (NLP) helps computers understand human language. It is a crucial part of Artificial Intelligence.\"\n"
   ]
  },
  {
   "cell_type": "code",
   "execution_count": 18,
   "id": "03d73498-9d6f-4a96-a443-846505f74424",
   "metadata": {},
   "outputs": [
    {
     "name": "stdout",
     "output_type": "stream",
     "text": [
      "Tokens: ['Natural', 'Language', 'Processing', '(', 'NLP', ')', 'helps', 'computers', 'understand', 'human', 'language', '.', 'It', 'is', 'a', 'crucial', 'part', 'of', 'Artificial', 'Intelligence', '.']\n"
     ]
    }
   ],
   "source": [
    "# Tokenization\n",
    "tokens = word_tokenize(doc)\n",
    "print(\"Tokens:\", tokens)"
   ]
  },
  {
   "cell_type": "code",
   "execution_count": 23,
   "id": "32c3ca35-2b84-49a0-835d-e8f2251a2c88",
   "metadata": {},
   "outputs": [
    {
     "name": "stdout",
     "output_type": "stream",
     "text": [
      "\n",
      "POS Tags: [('Natural', 'JJ'), ('Language', 'NNP'), ('Processing', 'NNP'), ('(', '('), ('NLP', 'NNP'), (')', ')'), ('helps', 'VBZ'), ('computers', 'NNS'), ('understand', 'VBP'), ('human', 'JJ'), ('language', 'NN'), ('.', '.'), ('It', 'PRP'), ('is', 'VBZ'), ('a', 'DT'), ('crucial', 'JJ'), ('part', 'NN'), ('of', 'IN'), ('Artificial', 'NNP'), ('Intelligence', 'NNP'), ('.', '.')]\n"
     ]
    }
   ],
   "source": [
    "# POS Tagging\n",
    "pos_tags = pos_tag(tokens)\n",
    "print(\"\\nPOS Tags:\", pos_tags)\n"
   ]
  },
  {
   "cell_type": "code",
   "execution_count": 24,
   "id": "d52b6961-e79a-4dea-b430-edec95b5a688",
   "metadata": {},
   "outputs": [
    {
     "name": "stdout",
     "output_type": "stream",
     "text": [
      "\n",
      "After Stopword Removal: ['Natural', 'Language', 'Processing', '(', 'NLP', ')', 'helps', 'computers', 'understand', 'human', 'language', '.', 'crucial', 'part', 'Artificial', 'Intelligence', '.']\n"
     ]
    }
   ],
   "source": [
    "# Stop Words Removal\n",
    "stop_words = set(stopwords.words('english'))\n",
    "filtered_tokens = [w for w in tokens if w.lower() not in stop_words]\n",
    "print(\"\\nAfter Stopword Removal:\", filtered_tokens)"
   ]
  },
  {
   "cell_type": "code",
   "execution_count": 25,
   "id": "6c4f83b2-d317-405e-a9c6-1a40342f3699",
   "metadata": {},
   "outputs": [
    {
     "name": "stdout",
     "output_type": "stream",
     "text": [
      "\n",
      "After Stemming: ['natur', 'languag', 'process', '(', 'nlp', ')', 'help', 'comput', 'understand', 'human', 'languag', '.', 'crucial', 'part', 'artifici', 'intellig', '.']\n"
     ]
    }
   ],
   "source": [
    "# Stemming\n",
    "stemmer = PorterStemmer()\n",
    "stemmed_tokens = [stemmer.stem(w) for w in filtered_tokens]\n",
    "print(\"\\nAfter Stemming:\", stemmed_tokens)\n"
   ]
  },
  {
   "cell_type": "code",
   "execution_count": 26,
   "id": "e2ecb020-9df3-4278-b263-84944a722c7d",
   "metadata": {},
   "outputs": [
    {
     "name": "stdout",
     "output_type": "stream",
     "text": [
      "\n",
      "After Lemmatization: ['Natural', 'Language', 'Processing', '(', 'NLP', ')', 'help', 'computer', 'understand', 'human', 'language', '.', 'crucial', 'part', 'Artificial', 'Intelligence', '.']\n"
     ]
    }
   ],
   "source": [
    "# Lemmatization\n",
    "lemmatizer = WordNetLemmatizer()\n",
    "lemmatized_tokens = [lemmatizer.lemmatize(w) for w in filtered_tokens]\n",
    "print(\"\\nAfter Lemmatization:\", lemmatized_tokens)\n"
   ]
  },
  {
   "cell_type": "code",
   "execution_count": 27,
   "id": "12537176-2db5-44b9-9e00-52ba8bb88f54",
   "metadata": {},
   "outputs": [
    {
     "name": "stdout",
     "output_type": "stream",
     "text": [
      "\n",
      "TF-IDF Matrix:\n",
      "[[0.         0.23900309 0.23900309 0.23900309 0.23900309 0.23900309\n",
      "  0.         0.23900309 0.23900309 0.23900309 0.47800618 0.\n",
      "  0.23900309 0.17005267 0.23900309 0.23900309 0.23900309 0.\n",
      "  0.         0.         0.23900309]\n",
      " [0.39204401 0.         0.         0.         0.         0.\n",
      "  0.39204401 0.         0.         0.         0.         0.39204401\n",
      "  0.         0.27894255 0.         0.         0.         0.39204401\n",
      "  0.39204401 0.39204401 0.        ]]\n"
     ]
    }
   ],
   "source": [
    "# If you have multiple documents\n",
    "documents = [doc, \n",
    "             \"NLP techniques include tokenization, stemming, and lemmatization.\"]\n",
    "\n",
    "# Create TF-IDF matrix\n",
    "vectorizer = TfidfVectorizer()\n",
    "tfidf_matrix = vectorizer.fit_transform(documents)\n",
    "\n",
    "# Show TF-IDF values\n",
    "print(\"\\nTF-IDF Matrix:\")\n",
    "print(tfidf_matrix.toarray())\n"
   ]
  },
  {
   "cell_type": "code",
   "execution_count": 28,
   "id": "42037894-0b11-4e99-a4cc-b23f9b00a7d9",
   "metadata": {},
   "outputs": [
    {
     "name": "stdout",
     "output_type": "stream",
     "text": [
      "\n",
      "Feature Names:\n",
      "['and' 'artificial' 'computers' 'crucial' 'helps' 'human' 'include'\n",
      " 'intelligence' 'is' 'it' 'language' 'lemmatization' 'natural' 'nlp' 'of'\n",
      " 'part' 'processing' 'stemming' 'techniques' 'tokenization' 'understand']\n"
     ]
    }
   ],
   "source": [
    "# Feature names (words)\n",
    "print(\"\\nFeature Names:\")\n",
    "print(vectorizer.get_feature_names_out())\n"
   ]
  },
  {
   "cell_type": "code",
   "execution_count": 29,
   "id": "1cf50855-3da4-4f68-a34c-3ef83fe41277",
   "metadata": {},
   "outputs": [
    {
     "name": "stdout",
     "output_type": "stream",
     "text": [
      "\n",
      "Term Frequency (TF) for documents:\n",
      "[3.75509898 2.63120663]\n"
     ]
    }
   ],
   "source": [
    "# Term Frequency (TF) calculation (per document)\n",
    "term_freq = tfidf_matrix.sum(axis=1).A1\n",
    "print(\"\\nTerm Frequency (TF) for documents:\")\n",
    "print(term_freq)\n"
   ]
  },
  {
   "cell_type": "code",
   "execution_count": 30,
   "id": "4f7199cf-1571-49fc-afa9-5097830e3520",
   "metadata": {},
   "outputs": [
    {
     "name": "stdout",
     "output_type": "stream",
     "text": [
      "\n",
      "Inverse Document Frequency (IDF) values:\n",
      "Word: and - IDF: 1.4054651081081644\n",
      "Word: artificial - IDF: 1.4054651081081644\n",
      "Word: computers - IDF: 1.4054651081081644\n",
      "Word: crucial - IDF: 1.4054651081081644\n",
      "Word: helps - IDF: 1.4054651081081644\n",
      "Word: human - IDF: 1.4054651081081644\n",
      "Word: include - IDF: 1.4054651081081644\n",
      "Word: intelligence - IDF: 1.4054651081081644\n",
      "Word: is - IDF: 1.4054651081081644\n",
      "Word: it - IDF: 1.4054651081081644\n",
      "Word: language - IDF: 1.4054651081081644\n",
      "Word: lemmatization - IDF: 1.4054651081081644\n",
      "Word: natural - IDF: 1.4054651081081644\n",
      "Word: nlp - IDF: 1.0\n",
      "Word: of - IDF: 1.4054651081081644\n",
      "Word: part - IDF: 1.4054651081081644\n",
      "Word: processing - IDF: 1.4054651081081644\n",
      "Word: stemming - IDF: 1.4054651081081644\n",
      "Word: techniques - IDF: 1.4054651081081644\n",
      "Word: tokenization - IDF: 1.4054651081081644\n",
      "Word: understand - IDF: 1.4054651081081644\n"
     ]
    }
   ],
   "source": [
    "# Inverse Document Frequency (IDF) calculation (for each word across documents)\n",
    "idf = vectorizer.idf_\n",
    "print(\"\\nInverse Document Frequency (IDF) values:\")\n",
    "for word, idf_value in zip(vectorizer.get_feature_names_out(), idf):\n",
    "    print(f\"Word: {word} - IDF: {idf_value}\")\n"
   ]
  },
  {
   "cell_type": "code",
   "execution_count": null,
   "id": "1c2d2711-3cba-4efe-93b6-5169b09b1f98",
   "metadata": {},
   "outputs": [],
   "source": []
  }
 ],
 "metadata": {
  "kernelspec": {
   "display_name": "Python 3 (ipykernel)",
   "language": "python",
   "name": "python3"
  },
  "language_info": {
   "codemirror_mode": {
    "name": "ipython",
    "version": 3
   },
   "file_extension": ".py",
   "mimetype": "text/x-python",
   "name": "python",
   "nbconvert_exporter": "python",
   "pygments_lexer": "ipython3",
   "version": "3.13.1"
  }
 },
 "nbformat": 4,
 "nbformat_minor": 5
}
